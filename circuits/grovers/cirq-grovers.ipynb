{
 "cells": [
  {
   "cell_type": "code",
   "execution_count": 19,
   "id": "547e8332-fccc-4844-9414-ecea95b8f0c4",
   "metadata": {},
   "outputs": [],
   "source": [
    "import cirq\n",
    "import matplotlib.pyplot as plt\n",
    "\n",
    "simulator = cirq.DensityMatrixSimulator()\n",
    "\n",
    "def binary_labels(num_qubits):\n",
    "    return [bin(x)[2:].zfill(num_qubits) for x in range(2 ** num_qubits)]"
   ]
  },
  {
   "cell_type": "code",
   "execution_count": 44,
   "id": "96c72253-0b2c-4a08-8994-a23bfb7edf3b",
   "metadata": {},
   "outputs": [
    {
     "name": "stdout",
     "output_type": "stream",
     "text": [
      "0: ───H───\n",
      "\n",
      "1: ───H───\n",
      "\n",
      "2: ───H───\n"
     ]
    }
   ],
   "source": [
    "# Initialize qubits in superposition states\n",
    "\n",
    "qubits = cirq.LineQubit.range(3)\n",
    "circuit = cirq.Circuit()\n",
    "\n",
    "circuit.append(cirq.H(qubits[0]))\n",
    "circuit.append(cirq.H(qubits[1]))\n",
    "circuit.append(cirq.H(qubits[2]))\n",
    "\n",
    "print(circuit)"
   ]
  },
  {
   "cell_type": "code",
   "execution_count": 45,
   "id": "95305065-67d5-4733-8447-91d2e40a3199",
   "metadata": {},
   "outputs": [
    {
     "name": "stdout",
     "output_type": "stream",
     "text": [
      "0: ───H───X───@───X───H───X───────@───────X───H───\n",
      "              │                   │\n",
      "1: ───H───────@───────H───X───────@───────X───H───\n",
      "              │                   │\n",
      "2: ───H───H───X───H───H───X───H───X───H───X───H───\n"
     ]
    }
   ],
   "source": [
    "# Grovers Algorithm\n",
    "\n",
    "## Apply the oracle\n",
    "circuit.append([cirq.X(qubits[0]), cirq.H(qubits[2])], strategy=cirq.InsertStrategy.NEW_THEN_INLINE)\n",
    "circuit.append(cirq.TOFFOLI(qubits[0], qubits[1], qubits[2]))\n",
    "circuit.append([cirq.X(qubits[0]), cirq.H(qubits[2])], strategy=cirq.InsertStrategy.NEW_THEN_INLINE)\n",
    "\n",
    "## Apply the Grovers Diffusion operator\n",
    "circuit.append([cirq.H(qubits[0]), cirq.H(qubits[1]), cirq.H(qubits[2])], strategy=cirq.InsertStrategy.NEW_THEN_INLINE)\n",
    "circuit.append([cirq.X(qubits[0]), cirq.X(qubits[1]), cirq.X(qubits[2])], strategy=cirq.InsertStrategy.NEW_THEN_INLINE)\n",
    "circuit.append([cirq.H(qubits[2])], strategy=cirq.InsertStrategy.NEW_THEN_INLINE)\n",
    "circuit.append(cirq.TOFFOLI(qubits[0], qubits[1], qubits[2]))\n",
    "circuit.append([cirq.H(qubits[2])], strategy=cirq.InsertStrategy.NEW_THEN_INLINE)\n",
    "circuit.append([cirq.X(qubits[0]), cirq.X(qubits[1]), cirq.X(qubits[2])], strategy=cirq.InsertStrategy.NEW_THEN_INLINE)\n",
    "circuit.append([cirq.H(qubits[0]), cirq.H(qubits[1]), cirq.H(qubits[2])], strategy=cirq.InsertStrategy.NEW_THEN_INLINE)\n",
    "\n",
    "print(circuit)\n"
   ]
  },
  {
   "cell_type": "code",
   "execution_count": 46,
   "id": "9f17b7c5-1e62-4da6-9f90-725b0cb63265",
   "metadata": {},
   "outputs": [
    {
     "name": "stdout",
     "output_type": "stream",
     "text": [
      "0: ───H───X───@───X───H───X───────@───────X───H───M───\n",
      "              │                   │\n",
      "1: ───H───────@───────H───X───────@───────X───H───M───\n",
      "              │                   │\n",
      "2: ───H───H───X───H───H───X───H───X───H───X───H───M───\n"
     ]
    }
   ],
   "source": [
    "\n",
    "circuit.append(cirq.measure(qubits[0]))\n",
    "circuit.append(cirq.measure(qubits[1]))\n",
    "circuit.append(cirq.measure(qubits[2]))\n",
    "\n",
    "print(circuit)"
   ]
  },
  {
   "cell_type": "code",
   "execution_count": 47,
   "id": "bafcbc59-986a-4139-8a8f-d653cdbd5a7d",
   "metadata": {},
   "outputs": [
    {
     "data": {
      "image/png": "[encoded data removed]",
      "text/plain": [
       "<Figure size 640x480 with 1 Axes>"
      ]
     },
     "metadata": {},
     "output_type": "display_data"
    }
   ],
   "source": [
    "result = simulator.run(circuit, repetitions=1024)\n",
    "_ = cirq.plot_state_histogram(result, plt.subplot(), tick_label=binary_labels(3))"
   ]
  },
  {
   "cell_type": "code",
   "execution_count": null,
   "id": "fd487afb-4c41-45ef-adab-8d414f0d0c09",
   "metadata": {},
   "outputs": [],
   "source": []
  }
 ],
 "metadata": {
  "kernelspec": {
   "display_name": "Python 3 (ipykernel)",
   "language": "python",
   "name": "python3"
  },
  "language_info": {
   "codemirror_mode": {
    "name": "ipython",
    "version": 3
   },
   "file_extension": ".py",
   "mimetype": "text/x-python",
   "name": "python",
   "nbconvert_exporter": "python",
   "pygments_lexer": "ipython3",
   "version": "3.11.3"
  }
 },
 "nbformat": 4,
 "nbformat_minor": 5
}
