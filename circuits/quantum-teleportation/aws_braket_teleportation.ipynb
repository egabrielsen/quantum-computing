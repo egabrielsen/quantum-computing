{
 "cells": [
  {
   "cell_type": "code",
   "execution_count": 37,
   "id": "0c0061c8-3ebc-4d79-b65a-521bc434e7aa",
   "metadata": {},
   "outputs": [
    {
     "name": "stdout",
     "output_type": "stream",
     "text": [
      "T  : |0|1|2|3|4|5|\n",
      "                  \n",
      "q0 : -X---C-H-C---\n",
      "          |   |   \n",
      "q1 : -H-C-X---|-C-\n",
      "        |     | | \n",
      "q2 : ---X-----Z-X-\n",
      "\n",
      "T  : |0|1|2|3|4|5|\n",
      "---\n",
      "Counter({'101': 31, '001': 28, '111': 28, '011': 13})\n"
     ]
    }
   ],
   "source": [
    "import boto3\n",
    "from braket.aws import AwsDevice\n",
    "from braket.devices import LocalSimulator\n",
    "from braket.circuits import Circuit\n",
    "\n",
    "device = LocalSimulator()\n",
    "\n",
    "# Define the circuit for quantum transportation\n",
    "circuit = Circuit()\n",
    "# Initialize message qbit to state 1\n",
    "circuit.x(0)\n",
    "\n",
    "# Create bell state of alice and bob qbits\n",
    "circuit.h(1).cnot(1,2)\n",
    "\n",
    "# Entangle Alice message qbit with bell state\n",
    "circuit.cnot(0,1)\n",
    "circuit.h(0)\n",
    "\n",
    "# Alice measures 2 qbits and sends to bob\n",
    "circuit\n",
    "\n",
    "# Bob control gates to determine output\n",
    "circuit.cz(0, 2)\n",
    "circuit.cnot(1, 2)\n",
    "\n",
    "print(circuit)\n",
    "print(\"---\")\n",
    "task = device.run(circuit, shots=100)\n",
    "print(task.result().measurement_counts)\n",
    "\n",
    "# NOTE: the measurement bits are in order (i.e. label = q0q1q2)"
   ]
  },
  {
   "cell_type": "code",
   "execution_count": null,
   "id": "79d8fbfd-c96f-46c3-a56b-3ea6552f46fa",
   "metadata": {},
   "outputs": [],
   "source": []
  }
 ],
 "metadata": {
  "kernelspec": {
   "display_name": "Python 3 (ipykernel)",
   "language": "python",
   "name": "python3"
  },
  "language_info": {
   "codemirror_mode": {
    "name": "ipython",
    "version": 3
   },
   "file_extension": ".py",
   "mimetype": "text/x-python",
   "name": "python",
   "nbconvert_exporter": "python",
   "pygments_lexer": "ipython3",
   "version": "3.11.3"
  }
 },
 "nbformat": 4,
 "nbformat_minor": 5
}
