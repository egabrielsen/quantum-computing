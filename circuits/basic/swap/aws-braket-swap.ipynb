{
 "cells": [
  {
   "cell_type": "code",
   "execution_count": 2,
   "id": "6765cc3c-3f1b-4ba7-9ed2-bb68b1d07aa3",
   "metadata": {},
   "outputs": [],
   "source": [
    "import boto3\n",
    "from braket.aws import AwsDevice\n",
    "from braket.devices import LocalSimulator\n",
    "from braket.circuits import Circuit\n",
    "\n",
    "device = LocalSimulator()\n",
    "\n",
    "def execute_circuit(circuit): \n",
    "    task = device.run(circuit, shots=1024)\n",
    "    print(task.result().measurement_counts)"
   ]
  },
  {
   "cell_type": "code",
   "execution_count": 3,
   "id": "00c40b36-642e-4418-827f-91ea66c1b278",
   "metadata": {},
   "outputs": [
    {
     "name": "stdout",
     "output_type": "stream",
     "text": [
      "T  : |0|1|2|3|\n",
      "              \n",
      "q0 : -X-C-X-C-\n",
      "        | | | \n",
      "q1 : ---X-C-X-\n",
      "\n",
      "T  : |0|1|2|3|\n"
     ]
    }
   ],
   "source": [
    "circuit = Circuit()\n",
    "\n",
    "# Initialize q0 to state 1\n",
    "circuit.x(0)\n",
    "\n",
    "# Perform the swap\n",
    "circuit.cnot(0,1)\n",
    "circuit.cnot(1,0)\n",
    "circuit.cnot(0,1)\n",
    "\n",
    "print(circuit)"
   ]
  },
  {
   "cell_type": "code",
   "execution_count": 4,
   "id": "15b0c357-bc47-4eb8-9a14-502110c73a6f",
   "metadata": {},
   "outputs": [
    {
     "name": "stdout",
     "output_type": "stream",
     "text": [
      "Counter({'01': 1024})\n"
     ]
    }
   ],
   "source": [
    "execute_circuit(circuit)"
   ]
  },
  {
   "cell_type": "code",
   "execution_count": 5,
   "id": "becb2ff5-39a8-44f5-9b82-55407933cd47",
   "metadata": {},
   "outputs": [
    {
     "name": "stdout",
     "output_type": "stream",
     "text": [
      "T  : |0|1|2|3|\n",
      "              \n",
      "q0 : ---C-X-C-\n",
      "        | | | \n",
      "q1 : -X-X-C-X-\n",
      "\n",
      "T  : |0|1|2|3|\n"
     ]
    }
   ],
   "source": [
    "circuit = Circuit()\n",
    "\n",
    "# Initialize q1 to state 1\n",
    "circuit.x(1)\n",
    "\n",
    "# Perform the swap\n",
    "circuit.cnot(0,1)\n",
    "circuit.cnot(1,0)\n",
    "circuit.cnot(0,1)\n",
    "\n",
    "print(circuit)"
   ]
  },
  {
   "cell_type": "code",
   "execution_count": 6,
   "id": "0d69f3c0-7649-4f6a-ae5f-38a7759198af",
   "metadata": {},
   "outputs": [
    {
     "name": "stdout",
     "output_type": "stream",
     "text": [
      "Counter({'10': 1024})\n"
     ]
    }
   ],
   "source": [
    "execute_circuit(circuit)"
   ]
  },
  {
   "cell_type": "code",
   "execution_count": null,
   "id": "94046813-12cb-4d31-a7b9-9edfdd0a9e62",
   "metadata": {},
   "outputs": [],
   "source": []
  }
 ],
 "metadata": {
  "kernelspec": {
   "display_name": "Python 3 (ipykernel)",
   "language": "python",
   "name": "python3"
  },
  "language_info": {
   "codemirror_mode": {
    "name": "ipython",
    "version": 3
   },
   "file_extension": ".py",
   "mimetype": "text/x-python",
   "name": "python",
   "nbconvert_exporter": "python",
   "pygments_lexer": "ipython3",
   "version": "3.11.3"
  }
 },
 "nbformat": 4,
 "nbformat_minor": 5
}
