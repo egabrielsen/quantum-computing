{
 "cells": [
  {
   "cell_type": "code",
   "execution_count": 7,
   "id": "2f2619d7-3f02-4e21-9adc-790f6b2a9968",
   "metadata": {},
   "outputs": [],
   "source": [
    "import boto3\n",
    "from braket.aws import AwsDevice\n",
    "from braket.devices import LocalSimulator\n",
    "from braket.circuits import Circuit\n",
    "\n",
    "device = LocalSimulator()\n",
    "\n",
    "def execute_circuit(circuit): \n",
    "    task = device.run(circuit, shots=1024)\n",
    "    print(task.result().measurement_counts)"
   ]
  },
  {
   "cell_type": "code",
   "execution_count": 8,
   "id": "4fbe7c41-33ce-4eb2-ab4f-68e1d9277d63",
   "metadata": {},
   "outputs": [
    {
     "name": "stdout",
     "output_type": "stream",
     "text": [
      "T  : |0|1|\n",
      "          \n",
      "q0 : -H-C-\n",
      "        | \n",
      "q1 : ---X-\n",
      "\n",
      "T  : |0|1|\n"
     ]
    }
   ],
   "source": [
    "# Bell State 1\n",
    "\n",
    "circuit = Circuit()\n",
    "\n",
    "circuit.h(0)\n",
    "circuit.cnot(0, 1)\n",
    "\n",
    "print(circuit)"
   ]
  },
  {
   "cell_type": "code",
   "execution_count": 9,
   "id": "db0762e6-b6ca-453a-a381-037e16f0d0f7",
   "metadata": {},
   "outputs": [
    {
     "name": "stdout",
     "output_type": "stream",
     "text": [
      "Counter({'11': 517, '00': 507})\n"
     ]
    }
   ],
   "source": [
    "execute_circuit(circuit)"
   ]
  },
  {
   "cell_type": "code",
   "execution_count": 10,
   "id": "51dd9d30-d82f-430e-a3db-4df1452a2882",
   "metadata": {},
   "outputs": [
    {
     "name": "stdout",
     "output_type": "stream",
     "text": [
      "T  : |0|1|2|\n",
      "            \n",
      "q0 : -X-H-C-\n",
      "          | \n",
      "q1 : -----X-\n",
      "\n",
      "T  : |0|1|2|\n"
     ]
    }
   ],
   "source": [
    "# Bell State 2\n",
    "\n",
    "circuit = Circuit()\n",
    "\n",
    "circuit.x(0)\n",
    "circuit.h(0)\n",
    "circuit.cnot(0, 1)\n",
    "\n",
    "print(circuit)"
   ]
  },
  {
   "cell_type": "code",
   "execution_count": 11,
   "id": "b12a9628-f2c3-42a8-8440-7c44c783d727",
   "metadata": {},
   "outputs": [
    {
     "name": "stdout",
     "output_type": "stream",
     "text": [
      "Counter({'00': 525, '11': 499})\n"
     ]
    }
   ],
   "source": [
    "execute_circuit(circuit)"
   ]
  },
  {
   "cell_type": "code",
   "execution_count": 14,
   "id": "f9837996-0b4c-4132-9b4f-7bc0d96ad316",
   "metadata": {},
   "outputs": [
    {
     "name": "stdout",
     "output_type": "stream",
     "text": [
      "T  : |0|1|\n",
      "          \n",
      "q0 : -H-C-\n",
      "        | \n",
      "q1 : -X-X-\n",
      "\n",
      "T  : |0|1|\n"
     ]
    }
   ],
   "source": [
    "# Bell State 3\n",
    "\n",
    "circuit = Circuit()\n",
    "\n",
    "circuit.h(0)\n",
    "circuit.x(1)\n",
    "circuit.cnot(0, 1)\n",
    "\n",
    "print(circuit)"
   ]
  },
  {
   "cell_type": "code",
   "execution_count": 15,
   "id": "df2e617b-20be-4d56-a702-0d8744a19122",
   "metadata": {},
   "outputs": [
    {
     "name": "stdout",
     "output_type": "stream",
     "text": [
      "Counter({'10': 513, '01': 511})\n"
     ]
    }
   ],
   "source": [
    "execute_circuit(circuit)"
   ]
  },
  {
   "cell_type": "code",
   "execution_count": 16,
   "id": "63337a5d-9763-447c-9548-29899953f443",
   "metadata": {},
   "outputs": [
    {
     "name": "stdout",
     "output_type": "stream",
     "text": [
      "T  : |0|1|2|\n",
      "            \n",
      "q0 : -H-Z-C-\n",
      "          | \n",
      "q1 : -X-Z-X-\n",
      "\n",
      "T  : |0|1|2|\n"
     ]
    }
   ],
   "source": [
    "# Bell State 4\n",
    "\n",
    "circuit = Circuit()\n",
    "\n",
    "circuit.h(0)\n",
    "circuit.x(1)\n",
    "circuit.z(0)\n",
    "circuit.z(1)\n",
    "circuit.cnot(0, 1)\n",
    "\n",
    "print(circuit)"
   ]
  },
  {
   "cell_type": "code",
   "execution_count": 17,
   "id": "8bff516f-cea1-4c1a-a243-d8ac7c372185",
   "metadata": {},
   "outputs": [
    {
     "name": "stdout",
     "output_type": "stream",
     "text": [
      "Counter({'10': 518, '01': 506})\n"
     ]
    }
   ],
   "source": [
    "execute_circuit(circuit)"
   ]
  },
  {
   "cell_type": "code",
   "execution_count": 19,
   "id": "dae694b2-f090-4feb-a529-3d57b6e9cfd7",
   "metadata": {},
   "outputs": [
    {
     "name": "stdout",
     "output_type": "stream",
     "text": [
      "T  : |0|1|2|\n",
      "            \n",
      "q0 : -H-C-C-\n",
      "        | | \n",
      "q1 : ---X-|-\n",
      "          | \n",
      "q2 : -----X-\n",
      "\n",
      "T  : |0|1|2|\n"
     ]
    }
   ],
   "source": [
    "# 3 qubit entanglement\n",
    "\n",
    "circuit = Circuit()\n",
    "\n",
    "circuit.h(0)\n",
    "circuit.cnot(0, 1)\n",
    "circuit.cnot(0, 2)\n",
    "\n",
    "print(circuit)"
   ]
  },
  {
   "cell_type": "code",
   "execution_count": 20,
   "id": "fde675c1-2573-4566-ac12-24b82a082dfe",
   "metadata": {},
   "outputs": [
    {
     "name": "stdout",
     "output_type": "stream",
     "text": [
      "Counter({'111': 523, '000': 501})\n"
     ]
    }
   ],
   "source": [
    "execute_circuit(circuit)"
   ]
  },
  {
   "cell_type": "code",
   "execution_count": null,
   "id": "abc5b4b8-a1d1-4441-81ae-b81af46d7021",
   "metadata": {},
   "outputs": [],
   "source": []
  }
 ],
 "metadata": {
  "kernelspec": {
   "display_name": "Python 3 (ipykernel)",
   "language": "python",
   "name": "python3"
  },
  "language_info": {
   "codemirror_mode": {
    "name": "ipython",
    "version": 3
   },
   "file_extension": ".py",
   "mimetype": "text/x-python",
   "name": "python",
   "nbconvert_exporter": "python",
   "pygments_lexer": "ipython3",
   "version": "3.11.3"
  }
 },
 "nbformat": 4,
 "nbformat_minor": 5
}
