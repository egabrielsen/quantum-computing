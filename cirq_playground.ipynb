{
 "cells": [
  {
   "cell_type": "code",
   "execution_count": 42,
   "id": "05fe9b83-194d-42e7-b288-dbeb06095ee7",
   "metadata": {},
   "outputs": [],
   "source": [
    "import cirq\n",
    "import numpy as np\n",
    "from cirq.circuits import InsertStrategy"
   ]
  },
  {
   "cell_type": "code",
   "execution_count": 52,
   "id": "34f31668-c632-49ad-9dc6-4b783fd2e64a",
   "metadata": {},
   "outputs": [
    {
     "name": "stdout",
     "output_type": "stream",
     "text": [
      "[cirq.GridQubit(0, 0), cirq.GridQubit(0, 1), cirq.GridQubit(1, 0), cirq.GridQubit(1, 1)]\n"
     ]
    }
   ],
   "source": [
    "qubits = cirq.GridQubit.square(2)\n",
    "\n",
    "print(qubits)"
   ]
  },
  {
   "cell_type": "code",
   "execution_count": 53,
   "id": "889fc130-45f3-4c46-8a83-b9eaff846014",
   "metadata": {},
   "outputs": [
    {
     "name": "stdout",
     "output_type": "stream",
     "text": [
      "\n"
     ]
    }
   ],
   "source": [
    "circuit = cirq.Circuit()\n",
    "print(circuit)"
   ]
  },
  {
   "cell_type": "code",
   "execution_count": 54,
   "id": "b9669750-1d12-482a-b55b-d0384933a436",
   "metadata": {},
   "outputs": [
    {
     "name": "stdout",
     "output_type": "stream",
     "text": [
      "(0, 0): ───H───────────\n",
      "\n",
      "(0, 1): ───────H───@───\n",
      "                   │\n",
      "(1, 0): ───────────X───\n"
     ]
    }
   ],
   "source": [
    "circuit.append([cirq.H(qubits[0])])\n",
    "circuit.append([cirq.H(qubits[1]), cirq.CNOT(qubits[1], qubits[2])], strategy=InsertStrategy.NEW_THEN_INLINE)\n",
    "print(circuit)"
   ]
  },
  {
   "cell_type": "code",
   "execution_count": 55,
   "id": "c0bb4676-60a5-46cd-9e01-614f4643b2d6",
   "metadata": {},
   "outputs": [
    {
     "name": "stdout",
     "output_type": "stream",
     "text": [
      "(0, 0): ───H───────────@───H───\n",
      "                       │\n",
      "(0, 1): ───────H───@───X───────\n",
      "                   │\n",
      "(1, 0): ───────────X───────────\n"
     ]
    }
   ],
   "source": [
    "circuit.append([cirq.CNOT(qubits[0], qubits[1]), cirq.H(qubits[0])], strategy=InsertStrategy.NEW_THEN_INLINE)\n",
    "print(circuit)"
   ]
  },
  {
   "cell_type": "code",
   "execution_count": 56,
   "id": "0b87e01f-19f1-4dc1-9feb-e512c9b19300",
   "metadata": {},
   "outputs": [
    {
     "name": "stdout",
     "output_type": "stream",
     "text": [
      "(0, 0): ───H───────────@───H───M───\n",
      "                       │\n",
      "(0, 1): ───────H───@───X───────M───\n",
      "                   │\n",
      "(1, 0): ───────────X───────────────\n"
     ]
    }
   ],
   "source": [
    "circuit.append([cirq.measure(qubits[0]), cirq.measure(qubits[1])], strategy=InsertStrategy.NEW_THEN_INLINE)\n",
    "print(circuit)"
   ]
  },
  {
   "cell_type": "code",
   "execution_count": 57,
   "id": "c3518732-577a-402a-a00b-4a2047fd49c2",
   "metadata": {},
   "outputs": [
    {
     "name": "stdout",
     "output_type": "stream",
     "text": [
      "(0, 0): ───H───────────@───H───M───────@───\n",
      "                       │               │\n",
      "(0, 1): ───────H───@───X───────M───@───┼───\n",
      "                   │               │   │\n",
      "(1, 0): ───────────X───────────────X───@───\n"
     ]
    }
   ],
   "source": [
    "circuit.append([cirq.CNOT(qubits[1], qubits[2]), cirq.CZ(qubits[0], qubits[2])], strategy=InsertStrategy.NEW_THEN_INLINE)\n",
    "print(circuit)"
   ]
  },
  {
   "cell_type": "code",
   "execution_count": 58,
   "id": "978f3ed0-ae5d-44e8-9b89-707cf4a9622b",
   "metadata": {},
   "outputs": [
    {
     "name": "stdout",
     "output_type": "stream",
     "text": [
      "(0, 0): ───H───────────@───H───M───────@───────\n",
      "                       │               │\n",
      "(0, 1): ───────H───@───X───────M───@───┼───────\n",
      "                   │               │   │\n",
      "(1, 0): ───────────X───────────────X───@───M───\n"
     ]
    }
   ],
   "source": [
    "circuit.append(cirq.measure(qubits[2]), strategy=InsertStrategy.NEW_THEN_INLINE)\n",
    "print(circuit)"
   ]
  },
  {
   "cell_type": "code",
   "execution_count": 59,
   "id": "26a308f1-6b57-4ead-80a7-621dd5e57c14",
   "metadata": {},
   "outputs": [
    {
     "name": "stdout",
     "output_type": "stream",
     "text": [
      "Counter({1: 52, 0: 48})\n"
     ]
    }
   ],
   "source": [
    "simulator = cirq.DensityMatrixSimulator()\n",
    "result = simulator.run(circuit, repetitions=100)\n",
    "\n",
    "print(result.histogram(key='q(1, 0)'))"
   ]
  },
  {
   "cell_type": "code",
   "execution_count": null,
   "id": "9d15c81a-dd89-4364-8435-35204e2dbe34",
   "metadata": {},
   "outputs": [],
   "source": []
  }
 ],
 "metadata": {
  "kernelspec": {
   "display_name": "Python 3 (ipykernel)",
   "language": "python",
   "name": "python3"
  },
  "language_info": {
   "codemirror_mode": {
    "name": "ipython",
    "version": 3
   },
   "file_extension": ".py",
   "mimetype": "text/x-python",
   "name": "python",
   "nbconvert_exporter": "python",
   "pygments_lexer": "ipython3",
   "version": "3.11.3"
  }
 },
 "nbformat": 4,
 "nbformat_minor": 5
}
